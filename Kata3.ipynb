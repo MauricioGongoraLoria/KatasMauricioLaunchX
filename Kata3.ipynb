{
 "cells": [
  {
   "cell_type": "markdown",
   "metadata": {},
   "source": [
    "SISTEMA DE EMERGENCIA POR COLISION"
   ]
  },
  {
   "cell_type": "code",
   "execution_count": null,
   "metadata": {},
   "outputs": [],
   "source": [
    "\n",
    "velocidad =float(input(\"Introduzca la velocidad del asteroide detectado\"))\n",
    "velsegura=25\n",
    "if velocidad < velsegura:\n",
    "    print( \"Se dirige un asteroide a \" + str(velocidad) + \"kms/hra, sin riesgo\" )\n",
    "else:\n",
    "    print(  \"Se dirige un asteroide a \" + str(velocidad) + \"kms/hra, peligro inminente\")\n",
    "    \n"
   ]
  },
  {
   "cell_type": "markdown",
   "metadata": {},
   "source": [
    "SISTEMA DE VIGILANCIA ATMOSFERICA"
   ]
  },
  {
   "cell_type": "code",
   "execution_count": null,
   "metadata": {},
   "outputs": [],
   "source": [
    "velocidad2 =float(input(\"Introduzca la velocidad del asteroide detectado en la atmosfera\"))\n",
    "velsegura2=20\n",
    "if velocidad2 < velsegura2 and velocidad2 > 0:\n",
    "    print( \"Se dirige un asteroide a \" + str(velocidad2) + \"kms/hra, sin riesgo es posible observarlo en el cielo\" )\n",
    "elif velocidad2 >= velsegura2:\n",
    "    print(  \"Se dirige un asteroide a \" + str(velocidad2) + \"kms/hra, peligro inminente\")\n",
    "else:\n",
    "    print(\"No se  detecta ningun objeto celeste cercano\")\n",
    "\n"
   ]
  },
  {
   "cell_type": "code",
   "execution_count": 7,
   "metadata": {},
   "outputs": [
    {
     "name": "stdout",
     "output_type": "stream",
     "text": [
      "Objeto no detectable, riesgo cero\n"
     ]
    }
   ],
   "source": [
    "tamaño=float(input(\"Introduzca el tamaño del asteroide\"))\n",
    "vel=float(input(\"Introduzca la velocidad del asteroide\"))\n",
    "tam=25\n",
    "tmax=1000\n",
    "if tamaño > tmax  and vel > velsegura:\n",
    "    print(\"Un asteroide de \" + str(tamaño)+\"mts y con una velocidad de \"+str(vel)+\" kms/hra se acerca PELIGRO INMINENTE\")\n",
    "elif tamaño > tam and tamaño < tmax and vel > velsegura:\n",
    "     print(\"Un asteroide de \" + str(tamaño)+\"mts y con una velocidad de \"+str(vel)+\" kms/hra se acerca PELIGRO MODERADO\")     \n",
    "elif tamaño < tam and vel > velocidad2:\n",
    " print(\"Un asteroide de \" + str(tamaño)+\"mts y con una velocidad de \"+str(vel)+\" kms/hra se acerca no hay riesgo, el objeto es visible en el cielo\") \n",
    "elif tamaño > tmax and vel < velocidad2:\n",
    "  print(\"Un asteroide de \" + str(tamaño)+\"mts y con una velocidad de \"+str(vel)+\" kms/hra se acerca riesgo minimo, tomar precauciones\")   \n",
    "else:\n",
    "    print(\"Objeto no detectable, riesgo cero\") \n"
   ]
  }
 ],
 "metadata": {
  "interpreter": {
   "hash": "c8b6341ae96abcc254191fa94af8bc4d3ea6bbce0d99452e2dfdc5b7edf36f98"
  },
  "kernelspec": {
   "display_name": "Python 3.10.2 64-bit (system)",
   "language": "python",
   "name": "python3"
  },
  "language_info": {
   "codemirror_mode": {
    "name": "ipython",
    "version": 3
   },
   "file_extension": ".py",
   "mimetype": "text/x-python",
   "name": "python",
   "nbconvert_exporter": "python",
   "pygments_lexer": "ipython3",
   "version": "3.10.2"
  },
  "orig_nbformat": 4
 },
 "nbformat": 4,
 "nbformat_minor": 2
}
