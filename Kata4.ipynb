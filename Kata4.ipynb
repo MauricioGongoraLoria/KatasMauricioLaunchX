{
 "cells": [
  {
   "cell_type": "markdown",
   "metadata": {},
   "source": [
    "EJERCICIO 1"
   ]
  },
  {
   "cell_type": "code",
   "execution_count": null,
   "metadata": {},
   "outputs": [],
   "source": [
    "text = \"\"\"Interesting facts about the Moon. The Moon is Earth's only satellite. There are several interesting facts about the Moon and how it affects life here on Earth. \n",
    "On average, the Moon moves 4cm away from the Earth every year. This yearly drift is not significant enough to cause immediate effects on Earth. The highest daylight temperature of the Moon is 127 C.\"\"\"\n",
    "\n",
    "\n"
   ]
  },
  {
   "cell_type": "code",
   "execution_count": 33,
   "metadata": {},
   "outputs": [
    {
     "data": {
      "text/plain": [
       "['Interesting facts about the Moon',\n",
       " \" The Moon is Earth's only satellite\",\n",
       " ' There are several interesting facts about the Moon and how it affects life here on Earth',\n",
       " ' \\nOn average, the Moon moves 4cm away from the Earth every year',\n",
       " ' This yearly drift is not significant enough to cause immediate effects on Earth',\n",
       " ' The highest daylight temperature of the Moon is 127 C',\n",
       " '']"
      ]
     },
     "execution_count": 33,
     "metadata": {},
     "output_type": "execute_result"
    }
   ],
   "source": [
    "parrafo =text .split('.')\n",
    "parrafo"
   ]
  },
  {
   "cell_type": "code",
   "execution_count": 34,
   "metadata": {},
   "outputs": [],
   "source": [
    "palabrasPista = [\"average\", \"temperature\", \"distance\"]"
   ]
  },
  {
   "cell_type": "code",
   "execution_count": 35,
   "metadata": {},
   "outputs": [
    {
     "name": "stdout",
     "output_type": "stream",
     "text": [
      " \n",
      "On average, the Moon moves 4cm away from the Earth every year\n",
      " The highest daylight temperature of the Moon is 127 C\n"
     ]
    }
   ],
   "source": [
    "for palabras in parrafo:\n",
    "    for pista in palabrasPista:\n",
    "        if pista in palabras:\n",
    "            print(palabras )\n",
    "            "
   ]
  },
  {
   "cell_type": "code",
   "execution_count": 39,
   "metadata": {},
   "outputs": [
    {
     "name": "stdout",
     "output_type": "stream",
     "text": [
      " The highest daylight temperature of the Moon is 127 Celsius\n"
     ]
    }
   ],
   "source": [
    "for palabras in parrafo:\n",
    "    if \"C\" in palabras:\n",
    "        print(palabras.replace(\"C\",\"Celsius\"))\n",
    "    \n",
    "              "
   ]
  },
  {
   "cell_type": "markdown",
   "metadata": {},
   "source": [
    "EJERCICIO 2"
   ]
  },
  {
   "cell_type": "code",
   "execution_count": 41,
   "metadata": {},
   "outputs": [],
   "source": [
    "name = \"Moon\"\n",
    "gravity = 0.00162 \n",
    "planet = \"Earth\""
   ]
  },
  {
   "cell_type": "code",
   "execution_count": 45,
   "metadata": {},
   "outputs": [
    {
     "name": "stdout",
     "output_type": "stream",
     "text": [
      "Información de la fuerza de gravedad del planeta Earth y su satelite Moon\n"
     ]
    }
   ],
   "source": [
    "titulo =\"Información de la fuerza de gravedad del planeta \" +planet+ \" y \"+ \"su satelite \"+name\n",
    "print(titulo) "
   ]
  },
  {
   "cell_type": "code",
   "execution_count": 54,
   "metadata": {},
   "outputs": [
    {
     "name": "stdout",
     "output_type": "stream",
     "text": [
      "Datos obtenidos\n",
      "   Planeta  Earth\n",
      "   Gravedad en  Moon 1.6199999999999999 m/s2\n"
     ]
    }
   ],
   "source": [
    "plantilla= \"\"\"Datos obtenidos\n",
    "   Planeta  %s\n",
    "   Gravedad en  %s %s m/s2\"\"\"%(planet,name,gravity*1000)\n",
    "print(plantilla)"
   ]
  },
  {
   "cell_type": "code",
   "execution_count": 66,
   "metadata": {},
   "outputs": [
    {
     "name": "stdout",
     "output_type": "stream",
     "text": [
      "Información de la fuerza de gravedad del planeta Earth y su satelite Moon .\n",
      " Datos obtenidos\n",
      "   Planeta  Earth\n",
      "   Gravedad en  Moon 1.6199999999999999 m/s2\n"
     ]
    }
   ],
   "source": [
    "resumen=(f'{titulo} .\\n {plantilla}')\n",
    "print(resumen)"
   ]
  },
  {
   "cell_type": "code",
   "execution_count": 69,
   "metadata": {},
   "outputs": [],
   "source": [
    "planeta = 'Marte '\n",
    "gravedad  = 0.00143\n",
    "nombre = 'Ganímedes'"
   ]
  },
  {
   "cell_type": "code",
   "execution_count": 70,
   "metadata": {},
   "outputs": [
    {
     "name": "stdout",
     "output_type": "stream",
     "text": [
      "Información de la fuerza de gravedad del planeta Earth y su satelite Moon .\n",
      " Datos obtenidos\n",
      "   Planeta  Earth\n",
      "   Gravedad en  Moon 1.6199999999999999 m/s2\n"
     ]
    }
   ],
   "source": [
    "print(resumen)"
   ]
  },
  {
   "cell_type": "code",
   "execution_count": 75,
   "metadata": {},
   "outputs": [
    {
     "name": "stdout",
     "output_type": "stream",
     "text": [
      "Datos obtenidos\n",
      "   Planeta  Marte \n",
      "   Gravedad en  Ganímedes 1.4300000000000002 m/s2\n"
     ]
    }
   ],
   "source": [
    "titulo =\"Información de la fuerza de gravedad del planeta \" +planeta+ \" y \"+ \"su satelite \"+nombre\n",
    "plantilla2= \"\"\"Datos obtenidos\n",
    "   Planeta  %s\n",
    "   Gravedad en  %s %s m/s2\"\"\"%(planeta,nombre,gravedad*1000)\n",
    "print(plantilla2)"
   ]
  },
  {
   "cell_type": "code",
   "execution_count": 76,
   "metadata": {},
   "outputs": [
    {
     "name": "stdout",
     "output_type": "stream",
     "text": [
      "Información de la fuerza de gravedad del planeta Marte  y su satelite Ganímedes .\n",
      " Datos obtenidos\n",
      "   Planeta  Marte \n",
      "   Gravedad en  Ganímedes 1.4300000000000002 m/s2\n"
     ]
    }
   ],
   "source": [
    "resumen2=(f'{titulo} .\\n {plantilla2}')\n",
    "print(resumen2)"
   ]
  }
 ],
 "metadata": {
  "interpreter": {
   "hash": "c8b6341ae96abcc254191fa94af8bc4d3ea6bbce0d99452e2dfdc5b7edf36f98"
  },
  "kernelspec": {
   "display_name": "Python 3.10.2 64-bit (system)",
   "language": "python",
   "name": "python3"
  },
  "language_info": {
   "codemirror_mode": {
    "name": "ipython",
    "version": 3
   },
   "file_extension": ".py",
   "mimetype": "text/x-python",
   "name": "python",
   "nbconvert_exporter": "python",
   "pygments_lexer": "ipython3",
   "version": "3.10.2"
  },
  "orig_nbformat": 4
 },
 "nbformat": 4,
 "nbformat_minor": 2
}
