{
 "cells": [
  {
   "cell_type": "markdown",
   "metadata": {},
   "source": [
    "EJERCICIO 1"
   ]
  },
  {
   "cell_type": "code",
   "execution_count": 2,
   "metadata": {},
   "outputs": [
    {
     "name": "stdout",
     "output_type": "stream",
     "text": [
      "La distancia es: 628,949,330.00 kms\n",
      "La distancia es: 390,577,534.00 millas\n"
     ]
    }
   ],
   "source": [
    "planeta1 =149597870  \n",
    "planeta2= 778547200 \n",
    "\n",
    "distancia=planeta2-planeta1\n",
    "print('La distancia es: {:,.2f}'.format(distancia)+ \" kms\")\n",
    "print('La distancia es: {:,.2f}'.format(round(distancia*.62100))+ \" millas\")"
   ]
  },
  {
   "cell_type": "markdown",
   "metadata": {},
   "source": [
    "EJERCICIO 2"
   ]
  },
  {
   "cell_type": "code",
   "execution_count": 4,
   "metadata": {},
   "outputs": [
    {
     "name": "stdout",
     "output_type": "stream",
     "text": [
      "La distancia entre los planetas es de  222,110,000.00 kms\n",
      "La distancia entre los planetas es de  137,930,310.00 millas\n"
     ]
    }
   ],
   "source": [
    "planet1=input(\"Ingresa la distancia del planeta 1 a evaluar\")\n",
    "planet2=input(\"Ingresa la distancia del planeta 2 a evaluar\")\n",
    "distancia1=int(planet1)\n",
    "distancia2=int(planet2)\n",
    "\n",
    "distancia3= abs( distancia2 -distancia1)\n",
    "print(\"La distancia entre los planetas es de  {:,.2f}\".format(distancia3) + \" kms\")\n",
    "print(\"La distancia entre los planetas es de  {:,.2f}\".format( distancia3*0.621) + \" millas\")\n",
    "\n"
   ]
  },
  {
   "cell_type": "markdown",
   "metadata": {},
   "source": [
    "Para probar el proyecto, ejecuta tu notebook. En la parte superior de vscode surgirá un cuadro de diálogo para que proporciones las distancias. Puede utilizar los datos de la tabla siguiente:\n",
    "\n",
    "| Planeta  | Distancia al sol |\n",
    "| ------- | ----------------- |\n",
    "| Mercurio | 57900000          |\n",
    "| Venus   | 108200000         |\n",
    "| Tierra   | 149600000         |\n",
    "| Marte    | 227900000         |\n",
    "| Júpiter | 778600000         |\n",
    "| Saturno  | 1433500000        |\n",
    "| Urano  | 2872500000        |\n",
    "| Neptuno | 4495100000        |"
   ]
  }
 ],
 "metadata": {
  "interpreter": {
   "hash": "c8b6341ae96abcc254191fa94af8bc4d3ea6bbce0d99452e2dfdc5b7edf36f98"
  },
  "kernelspec": {
   "display_name": "Python 3.10.2 64-bit (system)",
   "language": "python",
   "name": "python3"
  },
  "language_info": {
   "codemirror_mode": {
    "name": "ipython",
    "version": 3
   },
   "file_extension": ".py",
   "mimetype": "text/x-python",
   "name": "python",
   "nbconvert_exporter": "python",
   "pygments_lexer": "ipython3",
   "version": "3.10.2"
  },
  "orig_nbformat": 4
 },
 "nbformat": 4,
 "nbformat_minor": 2
}
