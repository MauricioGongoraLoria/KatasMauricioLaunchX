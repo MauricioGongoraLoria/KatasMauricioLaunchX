{
 "cells": [
  {
   "cell_type": "markdown",
   "metadata": {},
   "source": [
    "EJERCICIO 1"
   ]
  },
  {
   "cell_type": "code",
   "execution_count": 7,
   "metadata": {},
   "outputs": [
    {
     "name": "stdout",
     "output_type": "stream",
     "text": [
      "Tenemos registrados 8 planetas en el sistema solar\n"
     ]
    }
   ],
   "source": [
    "planetas=[\"mercurio\",\"venus\",\"tierra\",\"marte\",\"jupiter\",\"saturno\",\"urano\",\"neptuno\"]\n",
    "print(\"Tenemos registrados \"+ str(len(planetas))+ \" planetas en el sistema solar\")\n",
    "\n"
   ]
  },
  {
   "cell_type": "code",
   "execution_count": 11,
   "metadata": {},
   "outputs": [
    {
     "name": "stdout",
     "output_type": "stream",
     "text": [
      "Se ha localizado un nuevo planeta al final del sistema solar se identifica como pluton\n"
     ]
    }
   ],
   "source": [
    "planetas.append(\"pluton\")\n",
    "print(\"Se ha localizado un nuevo planeta al final del sistema solar se identifica como \" + planetas[-1])\n"
   ]
  },
  {
   "cell_type": "markdown",
   "metadata": {},
   "source": [
    "EJERCICIO 2"
   ]
  },
  {
   "cell_type": "code",
   "execution_count": 31,
   "metadata": {},
   "outputs": [],
   "source": [
    "\n",
    "planets = ['mercurio', 'venus', 'tierra', 'marte', 'jupiter', 'saturno', 'neptuno']"
   ]
  },
  {
   "cell_type": "code",
   "execution_count": 32,
   "metadata": {},
   "outputs": [],
   "source": [
    "pseleccion=input(\"Ingresa el nombre de un planeta \")"
   ]
  },
  {
   "cell_type": "code",
   "execution_count": 36,
   "metadata": {},
   "outputs": [
    {
     "name": "stdout",
     "output_type": "stream",
     "text": [
      "marte es el 4 planeta cercano al sol\n",
      "Los planetas mas cercanos al sol en relacion a marte son ['mercurio', 'venus', 'tierra']\n",
      "Los planetas mas lejanos al sol en relacion a marte son ['jupiter', 'saturno', 'neptuno']\n"
     ]
    }
   ],
   "source": [
    "\n",
    "planetabase= planets.index(pseleccion)\n",
    "print(pseleccion + \" es el\", planetabase + 1, \"planeta cercano al sol\")\n",
    "planetantes=planets[0:planetabase]\n",
    "planetdespues=planets[planetabase +1:]\n",
    "print(\"Los planetas mas cercanos al sol en relacion a \" + str(pseleccion) + \" son \"+ str(planetantes))\n",
    "print(\"Los planetas mas lejanos al sol en relacion a \" + str(pseleccion) + \" son \"+ str(planetdespues))\n"
   ]
  }
 ],
 "metadata": {
  "interpreter": {
   "hash": "c8b6341ae96abcc254191fa94af8bc4d3ea6bbce0d99452e2dfdc5b7edf36f98"
  },
  "kernelspec": {
   "display_name": "Python 3.10.2 64-bit (system)",
   "language": "python",
   "name": "python3"
  },
  "language_info": {
   "codemirror_mode": {
    "name": "ipython",
    "version": 3
   },
   "file_extension": ".py",
   "mimetype": "text/x-python",
   "name": "python",
   "nbconvert_exporter": "python",
   "pygments_lexer": "ipython3",
   "version": "3.10.2"
  },
  "orig_nbformat": 4
 },
 "nbformat": 4,
 "nbformat_minor": 2
}
