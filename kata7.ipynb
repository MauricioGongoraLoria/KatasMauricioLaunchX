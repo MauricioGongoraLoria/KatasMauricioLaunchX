{
 "cells": [
  {
   "cell_type": "markdown",
   "metadata": {},
   "source": [
    "EJERCICIO 1  y 2"
   ]
  },
  {
   "cell_type": "code",
   "execution_count": 6,
   "metadata": {},
   "outputs": [
    {
     "name": "stdout",
     "output_type": "stream",
     "text": [
      "tierra\n",
      "pluton\n"
     ]
    }
   ],
   "source": [
    "\n",
    "new_planet=input(\"\"\"Ingrese un nombre de planeta a registrar, la palabra  \"done\" o espacio vacio y enter para finalizar  \"\"\")\n",
    "planets=[]\n",
    "\n",
    "while new_planet != \"done\" and len(new_planet) >0:\n",
    "    if new_planet:\n",
    "        planets.append(new_planet)\n",
    "        new_planet=input(\"\"\"Ingrese un nombre de planeta a registrar, la palabra \"done\" o espacio vacio y enter para finalizar \"\"\")\n",
    " \n",
    "for planet in planets:\n",
    "    print(planet)\n",
    "\n",
    "\n",
    "\n"
   ]
  }
 ],
 "metadata": {
  "interpreter": {
   "hash": "c8b6341ae96abcc254191fa94af8bc4d3ea6bbce0d99452e2dfdc5b7edf36f98"
  },
  "kernelspec": {
   "display_name": "Python 3.10.2 64-bit (system)",
   "language": "python",
   "name": "python3"
  },
  "language_info": {
   "codemirror_mode": {
    "name": "ipython",
    "version": 3
   },
   "file_extension": ".py",
   "mimetype": "text/x-python",
   "name": "python",
   "nbconvert_exporter": "python",
   "pygments_lexer": "ipython3",
   "version": "3.10.2"
  },
  "orig_nbformat": 4
 },
 "nbformat": 4,
 "nbformat_minor": 2
}
