{
 "cells": [
  {
   "cell_type": "markdown",
   "metadata": {},
   "source": [
    "EJERCICIO 1"
   ]
  },
  {
   "cell_type": "code",
   "execution_count": 20,
   "metadata": {},
   "outputs": [
    {
     "name": "stdout",
     "output_type": "stream",
     "text": [
      "mars tiene 2 lunas\n"
     ]
    }
   ],
   "source": [
    "planet={\n",
    "    \"name\":\"mars\",\n",
    "    \"moons\":2\n",
    "}\n",
    "\n",
    "\n",
    "print(f'{planet[\"name\"]} tiene {planet[\"moons\"]} lunas') \n",
    "\n"
   ]
  },
  {
   "cell_type": "code",
   "execution_count": 33,
   "metadata": {},
   "outputs": [
    {
     "name": "stdout",
     "output_type": "stream",
     "text": [
      "6752\n"
     ]
    }
   ],
   "source": [
    "planet[\"circunferencia(km)\"]={\n",
    "    \"polar\":6752,\n",
    "    \"equatorial\":6792\n",
    "}\n",
    "\n",
    "\n"
   ]
  },
  {
   "cell_type": "code",
   "execution_count": 52,
   "metadata": {},
   "outputs": [
    {
     "name": "stdout",
     "output_type": "stream",
     "text": [
      "mars tiene una circunferencia polar de 6,752.00 kms\n"
     ]
    }
   ],
   "source": [
    "print( planet[\"name\"] +\" tiene una circunferencia polar de \" + '{:,.2f}'.format(planet[\"circunferencia(km)\"][\"polar\"]) + \" kms\")"
   ]
  },
  {
   "cell_type": "markdown",
   "metadata": {},
   "source": [
    "EJERCICIO 2\n"
   ]
  },
  {
   "cell_type": "code",
   "execution_count": 2,
   "metadata": {},
   "outputs": [],
   "source": [
    "planet_moons = {\n",
    "    'mercury': 0,\n",
    "    'venus': 0,\n",
    "    'earth': 1,\n",
    "    'mars': 2,\n",
    "    'jupiter': 79,\n",
    "    'saturn': 82,\n",
    "    'uranus': 27,\n",
    "    'neptune': 14,\n",
    "    'pluto': 5,\n",
    "    'haumea': 2,\n",
    "    'makemake': 1,\n",
    "    'eris': 1\n",
    "}"
   ]
  },
  {
   "cell_type": "code",
   "execution_count": 3,
   "metadata": {},
   "outputs": [
    {
     "name": "stdout",
     "output_type": "stream",
     "text": [
      "dict_values([0, 0, 1, 2, 79, 82, 27, 14, 5, 2, 1, 1])\n",
      "12\n"
     ]
    }
   ],
   "source": [
    "moons=planet_moons.values()\n",
    "planets=len(planet_moons)\n",
    "\n",
    "print(moons)\n",
    "print(planets)"
   ]
  },
  {
   "cell_type": "code",
   "execution_count": 4,
   "metadata": {},
   "outputs": [
    {
     "name": "stdout",
     "output_type": "stream",
     "text": [
      "Se tienen un total de 214 lunas para los 12 planetas analizados\n",
      "El promediio de lunas obtenido es de 18 lunas\n"
     ]
    }
   ],
   "source": [
    "total_moons=0\n",
    "\n",
    "for moon in moons:\n",
    "    total_moons= total_moons + moon\n",
    "\n",
    "print(f'Se tienen un total de {total_moons} lunas para los {planets} planetas analizados')\n",
    "print(f'El promediio de lunas obtenido es de {round(total_moons/planets)} lunas')\n",
    "\n",
    "\n",
    "\n"
   ]
  }
 ],
 "metadata": {
  "interpreter": {
   "hash": "c8b6341ae96abcc254191fa94af8bc4d3ea6bbce0d99452e2dfdc5b7edf36f98"
  },
  "kernelspec": {
   "display_name": "Python 3.10.2 64-bit (system)",
   "language": "python",
   "name": "python3"
  },
  "language_info": {
   "codemirror_mode": {
    "name": "ipython",
    "version": 3
   },
   "file_extension": ".py",
   "mimetype": "text/x-python",
   "name": "python",
   "nbconvert_exporter": "python",
   "pygments_lexer": "ipython3",
   "version": "3.10.2"
  },
  "orig_nbformat": 4
 },
 "nbformat": 4,
 "nbformat_minor": 2
}
