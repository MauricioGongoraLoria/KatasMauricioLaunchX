{
 "cells": [
  {
   "cell_type": "markdown",
   "metadata": {},
   "source": [
    "EJERCICIO 1"
   ]
  },
  {
   "cell_type": "code",
   "execution_count": 74,
   "metadata": {},
   "outputs": [],
   "source": [
    "def report(t_uno, t_dos,t_tres):\n",
    "    porcentaje=(t_uno+ t_dos+t_tres)/3\n",
    "    total=(t_uno+t_dos+t_tres)\n",
    "    return f\"\"\"\n",
    "    REPORTE DE COMBUSTIBLE\n",
    "    TOTAL DE LIROS EN TANQUES {total}\n",
    "    Promedio de combustible : {porcentaje} %\n",
    "    Combustible en Tanque uno : {(t_uno/total)*100} %\n",
    "    Combustible en Tanque dos : {(t_uno/total)*100} %\n",
    "    Combustible en Tanque tres : {(t_uno/total)*100} %\n",
    "    \"\"\""
   ]
  },
  {
   "cell_type": "code",
   "execution_count": 75,
   "metadata": {},
   "outputs": [
    {
     "name": "stdout",
     "output_type": "stream",
     "text": [
      "\n",
      "    REPORTE DE COMBUSTIBLE\n",
      "    TOTAL DE LIROS EN TANQUES 130\n",
      "    Promedio de combustible : 43.333333333333336 %\n",
      "    Combustible en Tanque uno : 30.76923076923077 %\n",
      "    Combustible en Tanque dos : 30.76923076923077 %\n",
      "    Combustible en Tanque tres : 30.76923076923077 %\n",
      "    \n"
     ]
    }
   ],
   "source": [
    "print(report(40,60,30))"
   ]
  },
  {
   "cell_type": "code",
   "execution_count": 9,
   "metadata": {},
   "outputs": [],
   "source": [
    "def promedio(valores):\n",
    "    total=sum(valores)\n",
    "    div=len(valores)\n",
    "    return total/div"
   ]
  },
  {
   "cell_type": "code",
   "execution_count": 10,
   "metadata": {},
   "outputs": [
    {
     "data": {
      "text/plain": [
       "43.333333333333336"
      ]
     },
     "execution_count": 10,
     "metadata": {},
     "output_type": "execute_result"
    }
   ],
   "source": [
    "promedio([40,60,30])"
   ]
  },
  {
   "cell_type": "code",
   "execution_count": 76,
   "metadata": {},
   "outputs": [],
   "source": [
    "def report(t_uno, t_dos,t_tres):\n",
    "    total=(t_uno+t_dos+t_tres)\n",
    "    print( f\"\"\"\n",
    "    REPORTE DE COMBUSTIBLE:\n",
    "    TOTAL DE LITROS EN TANQUES {total}\n",
    "    Promedio de combustible : {promedio([t_uno,t_dos,t_tres])}%\n",
    "    Combustible en Tanque uno : {(t_uno/total)*100} %\n",
    "    Combustible en Tanque dos : {(t_uno/total)*100} %\n",
    "    Combustible en Tanque tres : {(t_uno/total)*100} %\n",
    "    \"\"\")"
   ]
  },
  {
   "cell_type": "code",
   "execution_count": 77,
   "metadata": {},
   "outputs": [
    {
     "name": "stdout",
     "output_type": "stream",
     "text": [
      "\n",
      "    REPORTE DE COMBUSTIBLE:\n",
      "    TOTAL DE LITROS EN TANQUES 130\n",
      "    Promedio de combustible : 43.333333333333336%\n",
      "    Combustible en Tanque uno : 30.76923076923077 %\n",
      "    Combustible en Tanque dos : 30.76923076923077 %\n",
      "    Combustible en Tanque tres : 30.76923076923077 %\n",
      "    \n"
     ]
    }
   ],
   "source": [
    "report(40,60,30) "
   ]
  },
  {
   "cell_type": "markdown",
   "metadata": {},
   "source": [
    "EJERCICIO 2"
   ]
  },
  {
   "cell_type": "code",
   "execution_count": 78,
   "metadata": {},
   "outputs": [],
   "source": [
    "def resumen(t_pre, t_viaje, destino, texterno, tprincipal):\n",
    "    print( f\"\"\"\n",
    "    Mision a {destino}\n",
    "    Tiempo total de viaje: {t_pre + t_viaje} minutos\n",
    "    Combustible total disponible: {'{:,.2f}'.format(texterno + tprincipal)} litros\n",
    "    \"\"\")\n",
    "\n"
   ]
  },
  {
   "cell_type": "code",
   "execution_count": 79,
   "metadata": {},
   "outputs": [
    {
     "name": "stdout",
     "output_type": "stream",
     "text": [
      "\n",
      "    Mision a venus\n",
      "    Tiempo total de viaje: 60 minutos\n",
      "    Combustible total disponible: 50,000.00 litros\n",
      "    \n"
     ]
    }
   ],
   "source": [
    "resumen(10,50,\"venus\",20000,30000)"
   ]
  },
  {
   "cell_type": "code",
   "execution_count": 80,
   "metadata": {},
   "outputs": [],
   "source": [
    "def resumen(destino, *minutos, **tanques):\n",
    "    return f\"\"\"\n",
    "    Mission a {destino}\n",
    "    Tiempo total de viaje: {sum(minutos)} minutos\n",
    "    Total de combustible disponible:{sum(tanques.values())} litros\n",
    "    \"\"\"\n"
   ]
  },
  {
   "cell_type": "code",
   "execution_count": 81,
   "metadata": {},
   "outputs": [
    {
     "name": "stdout",
     "output_type": "stream",
     "text": [
      "\n",
      "    Mission a marte\n",
      "    Tiempo total de viaje: 1000 minutos\n",
      "    Total de combustible disponible:350000 litros\n",
      "    \n"
     ]
    }
   ],
   "source": [
    "print(resumen(\"marte\",100,200,300,400, principal=150000,secundario=200000))"
   ]
  },
  {
   "cell_type": "code",
   "execution_count": 82,
   "metadata": {},
   "outputs": [],
   "source": [
    "def resumen(destino, *minutos, **tanques):\n",
    "    reporte = f\"\"\"\n",
    "Mission a {destino}\n",
    "Tiempo total de viaje: {sum(minutos)} minutos\n",
    "Total de combustible disponible: {sum(tanques.values())}\n",
    "\"\"\"\n",
    "    for tanque,litros in tanques.items():\n",
    "            reporte += f\"Tanque {tanque} :{litros} litros disponibles\\n\"\n",
    "    return reporte\n",
    "\n"
   ]
  },
  {
   "cell_type": "code",
   "execution_count": 83,
   "metadata": {},
   "outputs": [
    {
     "name": "stdout",
     "output_type": "stream",
     "text": [
      "\n",
      "Mission a Marte\n",
      "Tiempo total de viaje: 74 minutos\n",
      "Total de combustible disponible: 650000\n",
      "Tanque principal :90000 litros disponibles\n",
      "Tanque secundario :560000 litros disponibles\n",
      "\n"
     ]
    }
   ],
   "source": [
    "print(resumen(\"Marte\", 8, 11, 55, principal=90000, secundario=560000))"
   ]
  }
 ],
 "metadata": {
  "interpreter": {
   "hash": "c8b6341ae96abcc254191fa94af8bc4d3ea6bbce0d99452e2dfdc5b7edf36f98"
  },
  "kernelspec": {
   "display_name": "Python 3.10.2 64-bit (system)",
   "language": "python",
   "name": "python3"
  },
  "language_info": {
   "codemirror_mode": {
    "name": "ipython",
    "version": 3
   },
   "file_extension": ".py",
   "mimetype": "text/x-python",
   "name": "python",
   "nbconvert_exporter": "python",
   "pygments_lexer": "ipython3",
   "version": "3.10.2"
  },
  "orig_nbformat": 4
 },
 "nbformat": 4,
 "nbformat_minor": 2
}
