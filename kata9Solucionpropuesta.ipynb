{
 "cells": [
  {
   "cell_type": "markdown",
   "metadata": {},
   "source": [
    "EJERCICIO 1"
   ]
  },
  {
   "cell_type": "code",
   "execution_count": null,
   "metadata": {},
   "outputs": [],
   "source": [
    "t1=input(\"Ingresa los litros almacenados en el tanque #1\")\n",
    "t2=input(\"Ingresa los litros almacenados en el tanque #2\")\n",
    "t3=input(\"Ingresa los litros almacenados en el tanque #3\")\n",
    "\n",
    "def informacion():\n",
    "    print(f\"\"\"\n",
    "El combustible por tanque es el siguiente: \n",
    "Tanque número uno  {t1} litros \n",
    "Tanque número dos  {t2} litros \n",
    "Tanque número tres {t3} litros \"\"\" )\n",
    "\n",
    "def reporte():\n",
    "    suma=(int(t1)+int(t2)+int(t3))/3\n",
    "    print((\"*\")*80 + \"\\n\"+ 'El promedio de combustible es de: {:,.2f}'.format(round(suma)) + \" litros\")\n",
    "\n",
    "informacion()\n",
    "reporte()\n",
    "    \n",
    "    "
   ]
  },
  {
   "cell_type": "code",
   "execution_count": null,
   "metadata": {},
   "outputs": [],
   "source": [
    "\n",
    "opcion=input(\"Ingrese 1 para ver los datos del combustible en tanques, opcion 2 para obtener el promedio de combustible disponible\")\n",
    "\n",
    "\n",
    "if opcion == \"1\":\n",
    "    informacion()\n",
    "if opcion ==\"2\":\n",
    "        reporte()\n",
    "if opcion !=\"1\" and opcion !=\"2\":\n",
    "        print(\"Ingrese la opcion correcta\")\n",
    "\n",
    "      "
   ]
  },
  {
   "cell_type": "markdown",
   "metadata": {},
   "source": [
    "EJERCICIO 2"
   ]
  },
  {
   "cell_type": "code",
   "execution_count": 2,
   "metadata": {},
   "outputs": [
    {
     "name": "stdout",
     "output_type": "stream",
     "text": [
      "\n",
      "        Mision a Mercurio\n",
      "        Tiempo de viaje total estimado en horas: 2.00 horas\n",
      "        Combustible en tanques: 1,200.00 litros disponibles\n",
      "    \n"
     ]
    }
   ],
   "source": [
    "hrprelan=input(\"Ingrese los minutos de prelanzamiento\")\n",
    "tvuelo=input(\"Ingrese los minutos de tiempo de vuelo\")\n",
    "destino=input(\"Ingrese el destino\")\n",
    "tanex=input(\"Ingrese los litros de combustible en el tanque externo\")\n",
    "tanpri=input(\"Ingrese los litros de combustible en el tanque principal\")\n",
    "\n",
    "combtotal=int(tanex)+int(tanpri)\n",
    "hrstotal=(int(hrprelan)+int(tvuelo))/60\n",
    "\n",
    "def reporte2():\n",
    "    print(f\"\"\"\n",
    "        Mision a {destino}\n",
    "        Tiempo de viaje total estimado en horas: {'{:,.2f}'.format(hrstotal)} horas\n",
    "        Combustible en tanques: {'{:,.2f}'.format(combtotal)} litros disponibles\n",
    "    \"\"\")\n",
    "\n",
    "reporte2()\n",
    "\n"
   ]
  },
  {
   "cell_type": "code",
   "execution_count": 5,
   "metadata": {},
   "outputs": [
    {
     "name": "stdout",
     "output_type": "stream",
     "text": [
      "El total de los minutos adicionados es de 60.00 equivalentes a 1.00 horas\n",
      "\n",
      "        DATOS ACTUALIZADOS DE LA MISION\n",
      "        Mision a Mercurio\n",
      "        Tiempo de viaje total estimado en horas: 3.00 horas\n",
      "        Combustible en tanques: 1,200.00 litros disponibles\n",
      "    \n"
     ]
    }
   ],
   "source": [
    "prueba=input(\"\"\"Requiere actualizar el tiempo  de vuelo, \"si\" o \"no\" \"\"\")\n",
    "tact=[]\n",
    "total = 0\n",
    "thr=0\n",
    "\n",
    "if prueba ==\"si\":\n",
    "    tvuelo2=(input(\"Ingrese los minutos de tiempo de vuelo\")) \n",
    "    tact.append(tvuelo2)\n",
    "    while tvuelo2 !=\"0\":\n",
    "        tvuelo2=(input(\"Ingrese los minutos de tiempo de vuelo o ingrese 0 para terminar\")) \n",
    "        tact.append(tvuelo2)\n",
    "\n",
    "    datact = [int(i) for i in tact]\n",
    "    total=sum(datact)\n",
    "    thr=total/60\n",
    "\n",
    "    print(f\"\"\"El total de los minutos adicionados es de {'{:,.2f}'.format(total)} equivalentes a {'{:,.2f}'.format(thr)} horas\"\"\")\n",
    "\n",
    "def reporte3():\n",
    "    print(f\"\"\"\n",
    "        DATOS ACTUALIZADOS DE LA MISION\n",
    "        Mision a {destino}\n",
    "        Tiempo de viaje total estimado en horas: {'{:,.2f}'.format((hrstotal)+(thr))} horas\n",
    "        Combustible en tanques: {'{:,.2f}'.format(combtotal)} litros disponibles\n",
    "    \"\"\")\n",
    "\n",
    "reporte3()\n",
    "\n",
    "\n",
    "\n"
   ]
  },
  {
   "cell_type": "code",
   "execution_count": 4,
   "metadata": {},
   "outputs": [
    {
     "name": "stdout",
     "output_type": "stream",
     "text": [
      "\n",
      "        Mision a Mercurio\n",
      "        Tiempo de viaje total estimado en horas: 2.00 horas\n",
      "        Combustible en tanques: 1,200.00 litros disponibles\n",
      "    \n",
      "\n",
      "        DATOS DEL COMBUSTIBLE\n",
      "        COMBUSTIBLE TOTAL : 1,200.00 litros disponibles\n",
      "        LITROS EN TANQUE EXTERNO :500.00 litros\n",
      "        LITROS EN TANQUE PRINCIPAL: 700.00 litros\n",
      "        PORCENTAJE TANQUE EXTERNO: 41.67 %\n",
      "        PORCENTAJE TANQUE PRINCIPAL: 58.33 %\n",
      "        \n"
     ]
    }
   ],
   "source": [
    "\n",
    "def conentra():\n",
    "        print(f\"\"\"\n",
    "        DATOS DEL COMBUSTIBLE\n",
    "        COMBUSTIBLE TOTAL : {'{:,.2f}'.format(combtotal)} litros disponibles\n",
    "        LITROS EN TANQUE EXTERNO :{'{:,.2f}'.format(int(tanex))} litros\n",
    "        LITROS EN TANQUE PRINCIPAL: {'{:,.2f}'.format(int(tanpri))} litros\n",
    "        PORCENTAJE TANQUE EXTERNO: {'{:,.2f}'.format((int(tanex)/(combtotal))*100)} %\n",
    "        PORCENTAJE TANQUE PRINCIPAL: {'{:,.2f}'.format((int(tanpri)/(combtotal))*100)} %\n",
    "        \"\"\")\n",
    "\n",
    "\n",
    "resumen=input(\"\"\"Requiere un resumen detallado de la información ingrese \"si\" o \"no\"  \"\"\")\n",
    "if resumen ==\"no\":\n",
    "        reporte2()\n",
    "if resumen==\"si\":\n",
    "        reporte2()\n",
    "        conentra()\n",
    "\n",
    "\n",
    "\n"
   ]
  }
 ],
 "metadata": {
  "interpreter": {
   "hash": "c8b6341ae96abcc254191fa94af8bc4d3ea6bbce0d99452e2dfdc5b7edf36f98"
  },
  "kernelspec": {
   "display_name": "Python 3.10.2 64-bit (system)",
   "language": "python",
   "name": "python3"
  },
  "language_info": {
   "codemirror_mode": {
    "name": "ipython",
    "version": 3
   },
   "file_extension": ".py",
   "mimetype": "text/x-python",
   "name": "python",
   "nbconvert_exporter": "python",
   "pygments_lexer": "ipython3",
   "version": "3.10.2"
  },
  "orig_nbformat": 4
 },
 "nbformat": 4,
 "nbformat_minor": 2
}
